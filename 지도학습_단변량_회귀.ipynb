{
  "nbformat": 4,
  "nbformat_minor": 0,
  "metadata": {
    "colab": {
      "provenance": [],
      "authorship_tag": "ABX9TyP1GuK3fWnps04igNwV4miD",
      "include_colab_link": true
    },
    "kernelspec": {
      "name": "python3",
      "display_name": "Python 3"
    },
    "language_info": {
      "name": "python"
    }
  },
  "cells": [
    {
      "cell_type": "markdown",
      "metadata": {
        "id": "view-in-github",
        "colab_type": "text"
      },
      "source": [
        "<a href=\"https://colab.research.google.com/github/sangmin1120/AI_Introduction/blob/main/%EC%A7%80%EB%8F%84%ED%95%99%EC%8A%B5_%EB%8B%A8%EB%B3%80%EB%9F%89_%ED%9A%8C%EA%B7%80.ipynb\" target=\"_parent\"><img src=\"https://colab.research.google.com/assets/colab-badge.svg\" alt=\"Open In Colab\"/></a>"
      ]
    },
    {
      "cell_type": "markdown",
      "source": [
        "# 1. import library"
      ],
      "metadata": {
        "id": "1t-fWKll6M4J"
      }
    },
    {
      "cell_type": "code",
      "source": [
        "# numpy. pandas . drive\n",
        "import numpy as np\n",
        "import pandas as pd\n",
        "from google.colab import drive"
      ],
      "metadata": {
        "id": "b2YTG_uU4j6i"
      },
      "execution_count": null,
      "outputs": []
    },
    {
      "cell_type": "markdown",
      "source": [
        "# 2. mount drive"
      ],
      "metadata": {
        "id": "cqoWuVj35ejR"
      }
    },
    {
      "cell_type": "code",
      "source": [
        "drive.mount('/smuai2024')"
      ],
      "metadata": {
        "colab": {
          "base_uri": "https://localhost:8080/"
        },
        "id": "Imq5Ok3n4tRB",
        "outputId": "8219d22d-fd43-41fd-8101-2f436495419c"
      },
      "execution_count": null,
      "outputs": [
        {
          "output_type": "stream",
          "name": "stdout",
          "text": [
            "Drive already mounted at /smuai2024; to attempt to forcibly remount, call drive.mount(\"/smuai2024\", force_remount=True).\n"
          ]
        }
      ]
    },
    {
      "cell_type": "code",
      "source": [],
      "metadata": {
        "id": "qEsYP0AR6Tox"
      },
      "execution_count": null,
      "outputs": []
    },
    {
      "cell_type": "markdown",
      "source": [
        "# 3. upload file"
      ],
      "metadata": {
        "id": "GYK_GUrf5lFN"
      }
    },
    {
      "cell_type": "code",
      "source": [
        "from google.colab import files\n",
        "files.upload()"
      ],
      "metadata": {
        "id": "WG6Z44cx5nZn"
      },
      "execution_count": null,
      "outputs": []
    },
    {
      "cell_type": "markdown",
      "source": [
        "# 4. read csv file"
      ],
      "metadata": {
        "id": "eSwsE3H96REW"
      }
    },
    {
      "cell_type": "code",
      "source": [
        "# csv file --> python 에서 쓸 수 있는 data format으로 변환 : pandas\n",
        "nbastat = pd.read_csv('nbastat2022.csv')\n",
        "nbastat"
      ],
      "metadata": {
        "id": "e6YNxEd352_S"
      },
      "execution_count": null,
      "outputs": []
    },
    {
      "cell_type": "code",
      "source": [
        "# 슛을 몇 개 시도해서 몇 개 성공했는 지를 알고싶음.\n",
        "# 모든 데이터에는 결측값(오류)가 있음. => 0으로 처리해야한다."
      ],
      "metadata": {
        "id": "fZSx6tix6jD5"
      },
      "execution_count": null,
      "outputs": []
    },
    {
      "cell_type": "markdown",
      "source": [
        "# 5. 줄 수 count"
      ],
      "metadata": {
        "id": "CWj5wRRA61RS"
      }
    },
    {
      "cell_type": "code",
      "source": [
        "m = len(nbastat) # m : 데이터의 수, sample의 수\n",
        "m"
      ],
      "metadata": {
        "colab": {
          "base_uri": "https://localhost:8080/"
        },
        "id": "AQTlUfcx6_B1",
        "outputId": "43727531-f8a3-4886-e851-c75e9580ae7c"
      },
      "execution_count": null,
      "outputs": [
        {
          "output_type": "execute_result",
          "data": {
            "text/plain": [
              "249"
            ]
          },
          "metadata": {},
          "execution_count": 20
        }
      ]
    },
    {
      "cell_type": "markdown",
      "source": [
        "# 6. feature selection --> nbastat에서 FGA,FGM만 추출"
      ],
      "metadata": {
        "id": "DGPtk16R64A3"
      }
    },
    {
      "cell_type": "code",
      "source": [
        "# FGA : 몇 개의 슛을 던지는지\n",
        "# FGM : 몇 개의 슛을 성공하는지\n",
        "# nbastat의 많은 column 들 중에서 이 값들만 추출해서 사용\n",
        "X = nbastat[['FGA']]\n",
        "Y = nbastat[['FGM']]\n",
        "print(X)\n",
        "print(Y)"
      ],
      "metadata": {
        "id": "H2wXYi3b7Gen"
      },
      "execution_count": null,
      "outputs": []
    },
    {
      "cell_type": "markdown",
      "source": [
        "# 7. 결측값을 처리\n"
      ],
      "metadata": {
        "id": "r88aobAs6713"
      }
    },
    {
      "cell_type": "code",
      "source": [
        "# pandas에서 결측값을 해소하는 함수 : fillna\n",
        "X = X.fillna(0)\n",
        "Y = Y.fillna(0)\n",
        "type(X)"
      ],
      "metadata": {
        "id": "pROu3awO7aaO"
      },
      "execution_count": null,
      "outputs": []
    },
    {
      "cell_type": "markdown",
      "source": [
        "# 8. pandas의 datafram --> np의 array로 변환"
      ],
      "metadata": {
        "id": "K7Wu6qM67z41"
      }
    },
    {
      "cell_type": "code",
      "source": [
        "X = (np.array(X)).reshape(m,1)\n",
        "Y = (np.array(Y)).reshape(m,1)\n",
        "print(X)\n",
        "type(X)"
      ],
      "metadata": {
        "id": "FOXcq46v76BW"
      },
      "execution_count": null,
      "outputs": []
    },
    {
      "cell_type": "markdown",
      "source": [
        "# 9. 그려보기 (확인)"
      ],
      "metadata": {
        "id": "3mDp1Cs776oJ"
      }
    },
    {
      "cell_type": "code",
      "source": [
        "import matplotlib.pyplot as plt\n",
        "plt.plot(X,Y,'.b')\n",
        "plt.xlabel(\"FGA\")\n",
        "plt.ylabel(\"FGM\")"
      ],
      "metadata": {
        "id": "cmNj6IBf87zL"
      },
      "execution_count": null,
      "outputs": []
    },
    {
      "cell_type": "markdown",
      "source": [
        "# 10. 학습 준비"
      ],
      "metadata": {
        "id": "Cg2nCZUd9PEm"
      }
    },
    {
      "cell_type": "code",
      "source": [
        "# 학습률 : learning rate (얼마나 빨리 학습을 할 것인가)\n",
        "learning_rate = 0.0001\n",
        "\n",
        "# 훈련 횟수 : epochs\n",
        "n_iter = 200"
      ],
      "metadata": {
        "id": "Xo1iA-UL9jLi"
      },
      "execution_count": null,
      "outputs": []
    },
    {
      "cell_type": "markdown",
      "source": [
        "# 11. 초기화"
      ],
      "metadata": {
        "id": "Tf-aaINj9kJc"
      }
    },
    {
      "cell_type": "code",
      "source": [
        "# theta와 theta의 미분 (gradient)를 초기화 --> 0으로 초기화\n",
        "theta = np.zeros((2,1))\n",
        "gradients = np.zeros((2,1))"
      ],
      "metadata": {
        "id": "H85syOCi9wI2"
      },
      "execution_count": null,
      "outputs": []
    },
    {
      "cell_type": "markdown",
      "source": [
        "# 12. 변수 설정"
      ],
      "metadata": {
        "id": "zvnkj1Vp9-ua"
      }
    },
    {
      "cell_type": "code",
      "source": [
        "# Xb를 설정 --> Xb = (1 X)의 결합\n",
        "X0 = np.ones((m,1))\n",
        "Xb = np.c_[X0,X]\n",
        "\n",
        "print(Xb)"
      ],
      "metadata": {
        "id": "7CvLsFP7-VaM"
      },
      "execution_count": null,
      "outputs": []
    },
    {
      "cell_type": "markdown",
      "source": [
        "# 13. 훈련"
      ],
      "metadata": {
        "id": "_BJzsU4k-v2k"
      }
    },
    {
      "cell_type": "code",
      "source": [
        "for i in range(n_iter):\n",
        "  # 1. Xb*theta --> Xb.dot(theta) --> (249,2) * (2,1) --> (249,1)\n",
        "  # 2. Xb*theta - Y --> Xb.dot(theta) - Y --> (249,1) - (249,1) --> (249,1)\n",
        "  # 3. (Xb*theta - Y)*Xb --> (249,1) * (249,2)\n",
        "  # --> Xb^I * (Xb*theta - Y) --> (2,249) * (249,1) --> (2,1)\n",
        "  gradients = (1.0/m)*Xb.T.dot(Xb.dot(theta)-Y) # (2,1)\n",
        "  theta = theta - learning_rate * gradients"
      ],
      "metadata": {
        "id": "7-2UNzyr-xOV"
      },
      "execution_count": null,
      "outputs": []
    },
    {
      "cell_type": "code",
      "source": [
        "theta"
      ],
      "metadata": {
        "colab": {
          "base_uri": "https://localhost:8080/"
        },
        "id": "KGhvS83-_8ED",
        "outputId": "bf20a819-09de-4a8c-ae0f-9edbaace622a"
      },
      "execution_count": null,
      "outputs": [
        {
          "output_type": "execute_result",
          "data": {
            "text/plain": [
              "array([[0.03517548],\n",
              "       [0.41092642]])"
            ]
          },
          "metadata": {},
          "execution_count": 35
        }
      ]
    },
    {
      "cell_type": "markdown",
      "source": [
        "# 14. 결과 가시화"
      ],
      "metadata": {
        "id": "wapdb1l_AAPq"
      }
    },
    {
      "cell_type": "code",
      "source": [
        "# (X,Y)의 데이터와 Y = theta_0 + X*theta_1 인공지능 모델식\n",
        "Y_pred = Xb.dot(theta)\n",
        "plt.plot(X,Y_pred,color='Red')\n",
        "plt.plot(X,Y,'.b')\n",
        "# n_iter(훈련의 횟수)를 조절해서 theta를 정확하게 구한다."
      ],
      "metadata": {
        "colab": {
          "base_uri": "https://localhost:8080/",
          "height": 448
        },
        "id": "TnQhehLyACGO",
        "outputId": "5598d4df-00de-4db9-ee56-8c84bd8e8f52"
      },
      "execution_count": null,
      "outputs": [
        {
          "output_type": "execute_result",
          "data": {
            "text/plain": [
              "[<matplotlib.lines.Line2D at 0x7f7d097b75e0>]"
            ]
          },
          "metadata": {},
          "execution_count": 38
        },
        {
          "output_type": "display_data",
          "data": {
            "text/plain": [
              "<Figure size 640x480 with 1 Axes>"
            ],
            "image/png": "[encoded data removed]"
          },
          "metadata": {}
        }
      ]
    }
  ]
}